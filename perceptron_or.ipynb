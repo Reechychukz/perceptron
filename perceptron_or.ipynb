{
 "cells": [
  {
   "cell_type": "code",
   "execution_count": 1,
   "metadata": {},
   "outputs": [],
   "source": [
    "import numpy as np;"
   ]
  },
  {
   "cell_type": "code",
   "execution_count": 2,
   "metadata": {},
   "outputs": [],
   "source": [
    "# Define the input data for the OR gate\n",
    "X = np.array([[0, 0], [0, 1], [1, 0], [1, 1]])"
   ]
  },
  {
   "cell_type": "code",
   "execution_count": 4,
   "metadata": {},
   "outputs": [],
   "source": [
    "# Define the target output for the OR gate\n",
    "y = np.array([0, 1, 1, 1])"
   ]
  },
  {
   "cell_type": "code",
   "execution_count": 5,
   "metadata": {},
   "outputs": [],
   "source": [
    "# Define the weights and bias for the perceptron\n",
    "weights = np.array([0.0, 0.0])\n",
    "bias = 0.0"
   ]
  },
  {
   "cell_type": "code",
   "execution_count": 9,
   "metadata": {},
   "outputs": [],
   "source": [
    "# Define the learning rate and number of epochs\n",
    "learning_rate = 0.5\n",
    "epochs = 5"
   ]
  },
  {
   "cell_type": "code",
   "execution_count": 11,
   "metadata": {},
   "outputs": [],
   "source": [
    "# Define the activation function (in this case, a step function, taking 0.5 as threshold value)\n",
    "def activation_function(x):\n",
    "    if x >= 0.5:\n",
    "        return 1\n",
    "    else:\n",
    "        return 0"
   ]
  },
  {
   "cell_type": "code",
   "execution_count": 12,
   "metadata": {},
   "outputs": [],
   "source": [
    "# Train the perceptron using the OR gate input data and target output\n",
    "for epoch in range(epochs):\n",
    "    for i in range(len(X)):\n",
    "        # Calculate the predicted output using the current weights and bias\n",
    "        predicted_output = activation_function(np.dot(X[i], weights) + bias)\n",
    "        \n",
    "        # Calculate the error between the predicted output and the target output\n",
    "        error = y[i] - predicted_output\n",
    "        \n",
    "        # Update the weights and bias based on the error and learning rate\n",
    "        weights += learning_rate * error "
   ]
  },
  {
   "cell_type": "code",
   "execution_count": 14,
   "metadata": {},
   "outputs": [
    {
     "name": "stdout",
     "output_type": "stream",
     "text": [
      "Input: [0 0] Output: 0\n",
      "Input: [0 1] Output: 1\n",
      "Input: [1 0] Output: 1\n",
      "Input: [1 1] Output: 1\n"
     ]
    }
   ],
   "source": [
    "# Test the trained perceptron on the OR gate input data\n",
    "for i in range(len(X)):\n",
    "    predicted_output = activation_function(np.dot(X[i], weights) + bias)\n",
    "    print(f\"Input: {X[i]} Output: {predicted_output}\")"
   ]
  }
 ],
 "metadata": {
  "kernelspec": {
   "display_name": "Python 3",
   "language": "python",
   "name": "python3"
  },
  "language_info": {
   "codemirror_mode": {
    "name": "ipython",
    "version": 3
   },
   "file_extension": ".py",
   "mimetype": "text/x-python",
   "name": "python",
   "nbconvert_exporter": "python",
   "pygments_lexer": "ipython3",
   "version": "3.10.7"
  },
  "orig_nbformat": 4
 },
 "nbformat": 4,
 "nbformat_minor": 2
}
